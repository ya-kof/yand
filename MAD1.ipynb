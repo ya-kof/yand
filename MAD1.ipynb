{
 "cells": [
  {
   "cell_type": "code",
   "execution_count": 7,
   "metadata": {},
   "outputs": [
    {
     "name": "stdout",
     "output_type": "stream",
     "text": [
      "да\n"
     ]
    }
   ],
   "source": [
    "#1.1.1 напишите, не используя арифметические операции, код из трех строк, \n",
    "#выдающий ответ «да», если введенное 10-значное натуральное число делится на 8.\n",
    "n = bin(1000000800)\n",
    "if (n[-1] == '0') and (n[-2] == '0') and (n[-3] == '0'): \n",
    "  print(\"да\")"
   ]
  },
  {
   "cell_type": "code",
   "execution_count": null,
   "metadata": {},
   "outputs": [],
   "source": [
    "#1.1.2 Напишите модуль для нахождения НОД числа 8 и заданного 10-значного числа, \n",
    "#не используя арифметические операции, но с использованием функций пользователя.\n",
    "import user\n",
    "try:\n",
    "    x = int(input())\n",
    "    print(user.nod(x))\n",
    "except ValueError:\n",
    "    print(\"Введите число\")\n",
    "except MyError as mr:\n",
    "    print(mr)"
   ]
  },
  {
   "cell_type": "code",
   "execution_count": null,
   "metadata": {},
   "outputs": [],
   "source": [
    "#модуль user\n",
    "class MyError(Exception):\n",
    "    def __init__(self, text):\n",
    "        self.txt = text\n",
    "def nod(x):\n",
    "    if len(str(x)) != 10:\n",
    "        raise MyError(\"Введите 10-значное число\")\n",
    "    else:\n",
    "        n = bin(x)\n",
    "        if n[-1] == '0':\n",
    "            if n[-2] == '0':\n",
    "                if n[-3] == '0':\n",
    "                    return 8\n",
    "                else:\n",
    "                    return 4\n",
    "            else:\n",
    "                return 2\n",
    "        else:\n",
    "            return 1"
   ]
  },
  {
   "cell_type": "code",
   "execution_count": 58,
   "metadata": {},
   "outputs": [
    {
     "name": "stdout",
     "output_type": "stream",
     "text": [
      "(1+3j)\n",
      "(8+21.1j)\n",
      "(7+5j)\n",
      "(2+7.53j)\n"
     ]
    }
   ],
   "source": [
    "#1.2.1 Создайте произвольный двухуровневый список из целых, вещественных и комплексных\n",
    "#чисел. Выберите из него только комплексные числа и запишите их в кортеж. \n",
    "lst = [[1, 3.56, 1+3j, 26, 8+21.1j], [6.73, 7+5j, 4, 2+7.53j, 81.9]]\n",
    "for j in range (2):\n",
    "    for i in range(len(lst[j])):\n",
    "        if(type(lst[j][i]) == complex): print (lst[j][i])"
   ]
  },
  {
   "cell_type": "code",
   "execution_count": 13,
   "metadata": {},
   "outputs": [
    {
     "name": "stdout",
     "output_type": "stream",
     "text": [
      "8\n"
     ]
    }
   ],
   "source": [
    "#1.2.2 Создайте множество из 100 первых элементов последовательности частичных сумм ряда\n",
    "#Фибоначчи. Выведите число значащих цифр у элемента последовательности с заданным номером.\n",
    "F=[1,1]\n",
    "for _ in range (98):\n",
    "    F.append(F[-1]+F[-2])\n",
    "psF = [F[0]]\n",
    "for i in range(1, 100):\n",
    "    psF.append(sum(F[j] for j in range(i)))\n",
    "print(len(str(F[35])))"
   ]
  },
  {
   "cell_type": "code",
   "execution_count": 39,
   "metadata": {},
   "outputs": [
    {
     "name": "stdout",
     "output_type": "stream",
     "text": [
      "-1\n",
      "1\n"
     ]
    }
   ],
   "source": [
    "#1.3.1 Создайте короткий скрипт, находящий все нули заданной функции на заданном интервале. \n",
    "def f(x):\n",
    "    return x**2-1\n",
    "for i in range(-10,10):\n",
    "    if f(i) == 0:\n",
    "        print(i)"
   ]
  },
  {
   "cell_type": "code",
   "execution_count": 44,
   "metadata": {},
   "outputs": [
    {
     "name": "stdout",
     "output_type": "stream",
     "text": [
      "['весело', 'вечером', 'волнительно', 'всегда']\n"
     ]
    }
   ],
   "source": [
    "#1.3.2\n",
    "text = \"вечером всегда весело и волнительно\"\n",
    "text_list = text.split()\n",
    "word = [word for word in text_list if word[0]=='в']\n",
    "print(sorted(word))"
   ]
  },
  {
   "cell_type": "code",
   "execution_count": null,
   "metadata": {},
   "outputs": [],
   "source": [
    "#1.4.1 Создайте множество из случайных натуральных чисел размером в 10000 элементов.\n",
    "#Осуществите из него случайную выборку 10 элементов без возвращения, а затем с возвращением, не\n",
    "#используя методы sample и choice. Зафиксируйте время выполнения. Сделайте то же самое с\n",
    "#использованием указанных методов модуля random и сравните скорости выполнения."
   ]
  },
  {
   "cell_type": "code",
   "execution_count": 2,
   "metadata": {},
   "outputs": [
    {
     "name": "stdout",
     "output_type": "stream",
     "text": [
      "9308\n",
      "\n",
      "\n",
      "32768\n",
      "32772\n",
      "65543\n",
      "32778\n",
      "11\n",
      "32779\n",
      "65548\n",
      "65549\n",
      "32787\n",
      "65558\n",
      "\n",
      "\n",
      "32794\n",
      "32798\n",
      "32\n",
      "34\n",
      "32803\n",
      "32812\n",
      "46\n",
      "47\n",
      "65584\n",
      "65586\n",
      "--- 0.0 seconds ---\n"
     ]
    }
   ],
   "source": [
    "import random\n",
    "import time\n",
    "A = {random.randint(1, 70000) for _ in range(10000)}\n",
    "print(len(A))\n",
    "print('\\n')\n",
    "start_time = time.time()\n",
    "for i in range(10):\n",
    "    print(A.pop())\n",
    "print('\\n')\n",
    "for i in range(10):\n",
    "    n = A.pop()\n",
    "    print(n)\n",
    "    A.add(n)\n",
    "print(\"--- %s seconds ---\" % (time.time() - start_time))"
   ]
  },
  {
   "cell_type": "code",
   "execution_count": 8,
   "metadata": {},
   "outputs": [
    {
     "name": "stdout",
     "output_type": "stream",
     "text": [
      "[60942, 7282, 59859, 61405, 5999, 26597, 37613, 2526, 45913, 9535]\n",
      "[69774, 19500, 30298, 6905, 66676, 37139, 60526, 20114, 54170, 23015]\n",
      "--- 0.002698659896850586 seconds ---\n"
     ]
    }
   ],
   "source": [
    "import random\n",
    "import time\n",
    "A = {random.randint(1, 70000) for _ in range(10000)}\n",
    "start_time = time.time()\n",
    "print(random.sample(A, 10))\n",
    "print(random.choices(list(A),k=10))\n",
    "print(\"--- %s seconds ---\" % (time.time() - start_time))"
   ]
  },
  {
   "cell_type": "code",
   "execution_count": 25,
   "metadata": {},
   "outputs": [
    {
     "name": "stdout",
     "output_type": "stream",
     "text": [
      "5\n"
     ]
    }
   ],
   "source": [
    "#1.4.2\n",
    "import re\n",
    "from nltk.tokenize import sent_tokenize\n",
    "file = open('text.txt', encoding='utf-8')\n",
    "count = 0\n",
    "for line in file:\n",
    "    if re.search('право.+',line,re.I): count+=1\n",
    "print(count)"
   ]
  },
  {
   "cell_type": "code",
   "execution_count": 27,
   "metadata": {},
   "outputs": [
    {
     "name": "stdout",
     "output_type": "stream",
     "text": [
      "0 / 3\n",
      "4 / 5\n",
      "4.0 / 5.0\n",
      "0.0 / 1.0\n",
      "inf\n"
     ]
    }
   ],
   "source": [
    "#1.4.3  Создайте класс Frac, типичный экземпляр которого является обыкновенной дробью.\n",
    "#Опишите методы обращения, сложения и умножения.\n",
    "def nok(a, b):\n",
    "    m = a * b\n",
    "    while a != 0 and b != 0:\n",
    "        if a > b:\n",
    "            a %= b\n",
    "        else:\n",
    "            b %= a\n",
    "    return m // (a + b)\n",
    "def nod(a,b):\n",
    "    while a != 0 and b != 0:\n",
    "        if a > b:\n",
    "            a = a % b\n",
    "        else:\n",
    "            b = b % a\n",
    "    return a + b\n",
    "class Frac:\n",
    "    def __init__(self, a, b):  \n",
    "        self.a = a  \n",
    "        self.b = b  \n",
    "    def __add__(self, other):\n",
    "        q = nok(self.b, other.b)\n",
    "        p = self.a*(q/self.b) + other.a*(q/other.b)\n",
    "        return Frac(p/nod(p, q), q/nod(p, q))\n",
    "    def __mul__(self, other):\n",
    "        p = self.a*other.a\n",
    "        q = self.b*other.b\n",
    "        return Frac(p/nod(p, q), q/nod(p, q))\n",
    "    def obr(self):\n",
    "        if self.a == 0: return float(\"inf\")\n",
    "        else: return Frac(self.b, self.a)\n",
    "    def print(self):\n",
    "        print(self.a,'/',self.b)\n",
    "\n",
    "a = Frac(0,3)\n",
    "b = Frac(4,5)\n",
    "c = a + b\n",
    "d = a*b\n",
    "e = a.obr()\n",
    "a.print(); b.print(); c.print(); d.print()\n",
    "if type(e) == float: \n",
    "    print(e)\n",
    "else: e.print()"
   ]
  },
  {
   "cell_type": "code",
   "execution_count": 79,
   "metadata": {},
   "outputs": [
    {
     "name": "stdout",
     "output_type": "stream",
     "text": [
      "14\n"
     ]
    }
   ],
   "source": [
    "#1.4.5 Напишите скрипт для вычисления скалярного произведения векторов с помощью map. \n",
    "def multiply(x,y): return x*y\n",
    "vector = list(map(multiply, [1,2], [4,5]))\n",
    "print(vector[0] + vector[1])"
   ]
  },
  {
   "cell_type": "code",
   "execution_count": 12,
   "metadata": {},
   "outputs": [
    {
     "data": {
      "image/png": "[encoded data removed]",
      "text/plain": [
       "<Figure size 432x288 with 1 Axes>"
      ]
     },
     "metadata": {
      "needs_background": "light"
     },
     "output_type": "display_data"
    }
   ],
   "source": [
    "#Постройте графики стандартного отклонения температур по месяцам года для Москвы и\n",
    "#Анадыря, пользуясь данными Gismeteo.\n",
    "import numpy as np\n",
    "from math import sqrt\n",
    "from matplotlib import pyplot as plt\n",
    "def otkl(temperature):\n",
    "    temperature2 = []\n",
    "    mx = []\n",
    "    mx2 = []\n",
    "    dx = []\n",
    "    sx = []\n",
    "    for i in range(len(temperature_moscow)):\n",
    "        temperature2.append([t**2 for t in temperature[i]])\n",
    "        mx.append(sum(temperature[i])/len(temperature[i]))\n",
    "        mx2.append(sum(temperature2[i])/len(temperature2[i]))\n",
    "        dx.append(mx2[i]-mx[i]**2)\n",
    "        sx.append(sqrt(dx[i]))\n",
    "    return sx\n",
    "mounth = ['Янв.','Фев.','Март','Апр.','Май','Июнь','Июль','Авг.','Сен.','Окт.','Нояб.','Дек.']\n",
    "temperature_moscow = [[-0.6,0.1,1.2,-0.8,0.4,-0.7,-1.5,0.3,0.6,1.0,-0.6,-2.4,1.4,0.4,1.7,2.9,3.4,1.4,-0.5,1.8,2.2,0.9,-3.6,-2.4,1.3,-0.6,-0.3,-4.8,-0.1,-0.4,0.2],\n",
    "               [0.0,0.2,1.9,-1.3,-4.4,-4.9,-8.9,-10.9,-4.3,-0.3,-0.3,0.7,-2.2,-0.1,-0.9,0.1,3.6,4.8,3.6,3.6,2.3,2.6,1.7,2.4,0.2,-0.7,1.5,1.3,-0.2,-0.4,0.2],\n",
    "               [1.3,3.5,3.6,4.5,4.4,4.9,7.4,6.6,6.2,6.2,6.2,6.2,4.8,3.5,-4.4,-0.7,4.7,6.0,8.6,3.4,-0.5,-2.7,-2.1,-0.7,3.8,7.6,8.2,9.6,10.5,0.3,-3.4],\n",
    "               [-1.4,2.9,6.9,4.8,2.0,1.1,2.6,9.5,9.3,7.7,1.8,2.3,8.8,7.7,3.6,3.8,3.5,2.9,3.0,3.6,5.9,5.8,6.1,4.0,5.8,4.9,5.9,6.4,9.9,5.3],\n",
    "               [8.2,10.1,16.6,15.2,16.6,15.7,14.8,10.7,12.0,13.8,15.6,18.4,8.2,10.6,9.8,9.6,10.0,7.8,7.2,8.3,5.9,6.2,6.3,7.5,12.5,13.8,14.0,16.0,13.3,16.6,11.3],\n",
    "               [9.7,10.0,11.3,13.9,14.2,16.6,20.9,22.9,23.8,21.6,23.1,19.5,13.9,16.8,19.1,22.7,24.8,22.4,23.0,22.5,15.7,17.0,19.0,20.6,19.9,21.2,24.0,22.4,17.7,18.4],\n",
    "               [20.4,19.1,20.6,21.5,21.7,23.4,23.1,20.9,16.0,17.5,21.8,22.2,18.3,16.8,17.6,15.5,15.8,16.3,18.1,17.9,17.6,17.4,15.2,14.3,16.1,17.9,18.3,21.7,22.7,19.3,15.5],\n",
    "               [16.1,16.6,17.1,19.2,20.6,21.6,20.5,19.7,20.0,19.7,17.3,14.6,13.3,13.5,14.4,17.7,18.7,15.4,15.1,16.4,15.8,17.8,18.6,19.3,19.4,16.6,16.4,16.9,15.1,17.7,24.0],\n",
    "               [19.9,15.1,17.5,18.4,18.1,18.4,18.0,15.6,12.7,13.5,12.1,12.7,14.4,12.4,12.9,11.1,15.5,9.7,9.3,9.0,10.0,14.7,14.4,13.9,14.1,14.3,14.1,10.7,12.7,11.8],\n",
    "               [11.4,11.4,11.8,12.0,13.6,14.0,14.6,14.7,11.5,11.8,9.8,11.2,13.2,12.8,12.9,6.4,3.5,3.5,4.1,3.2,2.1,4.5,11.1,10.1,7.2,8.8,7.9,7.8,7.1,4.6,6.2],\n",
    "               [5.6,5.4,6.9,8.7,7.5,6.6,7.3,7.5,1.1,2.9,1.4,0.2,3.2,2.0,1.2,-1.1,-5.1,-3.2,-0.2,0.5,0.3,-1.5,-0.4,2.3,1.3,0.1,1.7,1.4,2.0,1.6],\n",
    "               [-0.9,-3.0,-6.3,-4.4,-4.6,-5.9,-7.2,-8.3,-9.2,-8.9,-7.3,-8.9,-6.2,-5.2,-4.4,-3.2,0.5,-0.1,-2.1,-1.0,1.3,-1.2,-3.5,-5.5,-3.5,-1.1,-4.9,-7.1,-7.0,-3.6,-2.4]\n",
    "              ]\n",
    "temperature_anadir = [[-32.4,-32.4,-36.1,-35.8-35.4,-34.0,-31.5,-23.7,-17.4,-14.8,-9.2,-4.9,-4.9,-14.3,-4.4,-0.8,-3.2,-4.3,-10.7,-24.6,-25.9,-29.1,-31.7,-25.7,-17.0,-9.6,-12.4,-16.6,-17.5,-20.2,-23.9],\n",
    "                     [-34.5,-40.0,-40.8,-32.7,-27.0,-34.3,-37.7,-38.4,-27.9,-26.0,-26.1,-18.3,-12.2,-12.0,-13.5,-20.6,-21.9,-26.9,-23.7,-28.8,-27.4,-25.8,-26.4,-25.9,-24.6,-22.6,-18.8,-25.2,-25.6],\n",
    "                     [-26.7,-21.9,-20.0,-16.5,-16.9,-19.3,-25.3,-29.4,-26.9,-24.1,-26.5,-21.0,-0.1,-7.2,-8.4,-5.6,-2.5,-3.1,-1.7,-9.5,-15.9,-14.6,-5.3,-3.3,-4.0,-5.2,-9.3,-19.1,-17.7,-9.3,-6.3],\n",
    "                     [-6.5,-10.4,-13.8,-17.8,-15.5,-20.0,-21.3,-18.4,-14.5,-17.6,-18.9,-15.6,-14.0,-11.0,-10.2,-8.9,-8.6,-12.0,-10.0-9.1,-10.6,-13.7,-15.4,-14.1,-7.6,-7.6,-10.8,-12.5,-9.3,-4.3],\n",
    "                     [-3.3,-6.3,-8.1,-6.1,-6.1,-7.0,-2.0,-1.2,3.3,1.9,1.1,1.2,0.9,0.8,1.7,1.9,2.1,-0.5,-0.3,-0.7,-0.8,-0.4,0.9,1.9,1.9,1.6,1.7,2.1,1.9,3.1,4.5],\n",
    "                     [6.5,9.0,12.0,9.0,7.1,7.6,9.4,10.3,10.1,9.5,13.2,13.5,11.3,11.1,4.7,6.5,14.0,16.6,15.4,17.4,14.7,18.2,14.3,9.7,6.0,8.5,7.1,3.7,5.1,6.8],\n",
    "                     [6.4,6.0,9.4,8.4,6.8,8.4,8.0,11.6,15.1,14.0,11.6,13.2,11.0,11.5,10.4,10.9,10.0,11.2,11.8,10.2,11.7,12.0,12.3,14.3,15.0,15.4,16.6,17.9,12.7,11.9,11.5],\n",
    "                     [13.1,10.9,11.1,11.9,12.7,10.0,10.5,11.1,11.3,12.9,13.6,14.1,13.4,12.4,13.7,13.3,13.2,11.9,10.6,12.2,11.6,10.2,10.6,11.1,10.7,9.7,10.3,9.6,9.2,8.8,6.6],\n",
    "                     [5.4,7.8,7.8,6.4,6.8,6.6,8.1,6.7,7.1,8.7,8.6,8.8,7.2,7.2,8.2,7.6,6.0,5.6,3.7,4.9,4.5,4.5,3.9,4.5,0.9,-0.7,-0.1,1.1,4.7,3.6],\n",
    "                     [2.2,1.6,3.1,0.8,0.1,-0.9,2.5,0.4,1.6,3.7,2.2,-0.3,-3.2,-2.1,1.3,4.4,2.3,0.1,-2.6,0.6,3.8,2.3,1.3,-3.0,-4.7,-4.6,-7.2,-8.2,-10.1,-11.6,-13.4],\n",
    "                     [-13.2,-10.6,-9.8,-13.3,-0.8,1.9,-2.6,-5.8,-9.9,-4.2,-4.4,-7.2,-6.3,-10.9,-13.4,-1.9,0.6,0.5,1.7,0.0,-1.7,-2.1,-2.3,-4.7,-4.2,-7.6,-6.9,-7.5,-13.6,-18.0],\n",
    "                     [-22.9,-26.3,-27.8,-31.3,-12.3,-5.4,-6.6,-10.6,-9.3,-5.3,-8.9,-11.4,-10.6,-8.2,-11.2,-10.2,-9.3,-13.0,-16.2,-20.3,-22.3,-27.0,-27.0,-24.8,-27.7,-28.4,-30.6,-15.4,-12.3,-11.6,-12.2]\n",
    "                     ]\n",
    "sx1 = otkl(temperature_moscow)\n",
    "sx2 = otkl(temperature_anadir)\n",
    "plt.plot(mounth, sx1, 'r', label = 'Москва', marker='o', linestyle='solid')\n",
    "plt.plot(mounth, sx2, 'g', label = 'Анадырь', marker='o', linestyle='solid')\n",
    "plt.legend()\n",
    "plt.xlabel('месяц')\n",
    "plt.ylabel('среднеквадратичное отклонение')\n",
    "plt.show()"
   ]
  },
  {
   "cell_type": "code",
   "execution_count": 21,
   "metadata": {
    "scrolled": true
   },
   "outputs": [
    {
     "data": {
      "image/png": "[encoded data removed]",
      "text/plain": [
       "<Figure size 432x288 with 1 Axes>"
      ]
     },
     "metadata": {
      "needs_background": "light"
     },
     "output_type": "display_data"
    }
   ],
   "source": [
    "## 1.5.2 Постройте столбчатые диаграммы населения 10 стран мира (по вашему выбору) в 2000 и\n",
    "#в 2015 годах по данным ресурса worldometer.\n",
    "from matplotlib import pyplot as plt\n",
    "countries = [\"Италия\",\"Испания\",\"Украина\",\"South Korea\",\"Sweden\",\"Panama\",\"Израиль\",\"Канада\",\"Португалия\",\"Словакия\"]\n",
    "population2000 = [56692178,40824754,48838065,47379241,8881640,3030328,5945950,30588383,10297112,5399211]\n",
    "population2015 = [60578494,46671926,44921639,50823093,9764950,3968487,7978490,36026676,10368351,5435611]\n",
    "plt.bar(countries, population2000, color = 'green', alpha = 0.5, label='2000 год')\n",
    "plt.bar(countries, population2015, color = 'red', alpha = 0.5, label='2015 год')\n",
    "plt.ylabel(\"Популяция, десятки млн\")\n",
    "plt.title(\"Население 10 стран мира\")\n",
    "plt.xticks([i+0.1 for i, _ in enumerate(countries)], countries)\n",
    "plt.legend()\n",
    "plt.show()"
   ]
  },
  {
   "cell_type": "code",
   "execution_count": 2,
   "metadata": {},
   "outputs": [
    {
     "data": {
      "text/plain": [
       "<function matplotlib.pyplot.show(close=None, block=None)>"
      ]
     },
     "execution_count": 2,
     "metadata": {},
     "output_type": "execute_result"
    },
    {
     "data": {
      "image/png": "[encoded data removed]",
      "text/plain": [
       "<Figure size 432x288 with 1 Axes>"
      ]
     },
     "metadata": {
      "needs_background": "light"
     },
     "output_type": "display_data"
    }
   ],
   "source": [
    "#1.5.3\n",
    "from matplotlib import pyplot as plt\n",
    "days = [1,2,3,4,5,6,7,8,9,10,11,12]\n",
    "count_of_incedent = [2, 14, 11, 3, 1, 4, 3, 21, 15, 9, 4, 3]\n",
    "damage = [100, 12, 15, 45, 32, 21, 33, 67, 87, 56, 91, 115]\n",
    "plt.scatter(days,count_of_incedent, s = damage)\n",
    "# назначаем метки\n",
    "for days, count_of_incedent, damage in zip(days, count_of_incedent, damage):\n",
    "    plt.annotate(damage, \n",
    "                 xy = (days, count_of_incedent), # задаем метку\n",
    "                 xytext = (5,-5), # смещаем метку\n",
    "                 textcoords = 'offset points')\n",
    "plt.title(\"Инциденты информационной безопасности\")\n",
    "plt.xlabel(\"День\")\n",
    "plt.ylabel(\"Количество инцидентов\")\n",
    "plt.show"
   ]
  }
 ],
 "metadata": {
  "kernelspec": {
   "display_name": "Python 3",
   "language": "python",
   "name": "python3"
  },
  "language_info": {
   "codemirror_mode": {
    "name": "ipython",
    "version": 3
   },
   "file_extension": ".py",
   "mimetype": "text/x-python",
   "name": "python",
   "nbconvert_exporter": "python",
   "pygments_lexer": "ipython3",
   "version": "3.8.5"
  }
 },
 "nbformat": 4,
 "nbformat_minor": 4
}
