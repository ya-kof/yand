{
 "cells": [
  {
   "cell_type": "markdown",
   "metadata": {},
   "source": [
    "Для выборок полученных в \"Игре в имитацию\" проверить на уровне значимости 0,05 гипотезы о соответствии теоретическим распределениям из задания 11"
   ]
  },
  {
   "cell_type": "markdown",
   "metadata": {},
   "source": [
    "2. Непрерывная случайная величина ξ распределена по экспоненциальному закону с параметром λ соответствующим данным варианта. Используя генератор псевдослучайных чисел, получить 10000 чисел, имитирующих поведение ξ. Построить выборочное распределение, интервальный ряд и гистограмму. Найти несмещенные оценки для математического ожидании и дисперсии. Здесь λ определяется номер по списку разделить на 4."
   ]
  },
  {
   "cell_type": "markdown",
   "metadata": {},
   "source": [
    "λ = 2.25"
   ]
  },
  {
   "cell_type": "code",
   "execution_count": 244,
   "metadata": {},
   "outputs": [],
   "source": [
    "import numpy as np\n",
    "import math as m"
   ]
  },
  {
   "cell_type": "markdown",
   "metadata": {},
   "source": [
    "Генерируем случайные числа"
   ]
  },
  {
   "cell_type": "code",
   "execution_count": 245,
   "metadata": {},
   "outputs": [
    {
     "name": "stdout",
     "output_type": "stream",
     "text": [
      "[0.67444695 0.23041324 0.46906939 ... 0.40878281 0.67407371 0.7071235 ]\n"
     ]
    }
   ],
   "source": [
    "n = 10_000\n",
    "data = np.random.rand(n)\n",
    "print(data)"
   ]
  },
  {
   "cell_type": "code",
   "execution_count": 246,
   "metadata": {},
   "outputs": [
    {
     "name": "stdout",
     "output_type": "stream",
     "text": [
      "1.5251160030846925e-05 3.791886165880282 3.791870914720251 0.6319784857867085\n"
     ]
    }
   ],
   "source": [
    "import math as m\n",
    "data_exp = [-(1/2.25) * np.log(data_i) for data_i in data]\n",
    "min_data = min(data_exp)\n",
    "max_data = max(data_exp)\n",
    "d = max_data - min_data\n",
    "h = d/6\n",
    "print(min_data, max_data, d, h)\n",
    "#print(data_exp)"
   ]
  },
  {
   "cell_type": "code",
   "execution_count": 247,
   "metadata": {},
   "outputs": [
    {
     "name": "stdout",
     "output_type": "stream",
     "text": [
      "[0.6319784857867085, 1.263956971573417, 1.8959354573601255, 2.527913943146834, 3.159892428933542, 3.792870914720251]\n"
     ]
    }
   ],
   "source": [
    "#границы интервалов\n",
    "a =[]\n",
    "for i in range(1,6):\n",
    "    a.append(h*i)\n",
    "#a = [h*i for i in range(5)]\n",
    "a.append(6*h + 0.001)\n",
    "print(a)"
   ]
  },
  {
   "cell_type": "code",
   "execution_count": 248,
   "metadata": {},
   "outputs": [
    {
     "name": "stdout",
     "output_type": "stream",
     "text": [
      "[0.7587572504805594, 0.18304468532374105, 0.04415820317242007, 0.010652846347152705, 0.0025699219429952463, 0.0008170927331315747]\n",
      "10000.0\n"
     ]
    }
   ],
   "source": [
    "import math as m\n",
    "p = []\n",
    "p.append(1 - m.exp(-2.25 * a[0]))\n",
    "for i in range(len(a) - 2):\n",
    "    p.append(m.exp(-2.25*a[i]) - m.exp(-2.25*a[i+1]))\n",
    "p.append(1-sum(p))\n",
    "print(p)\n",
    "m = [n*p_i for p_i in p]\n",
    "print(sum(m))"
   ]
  },
  {
   "cell_type": "code",
   "execution_count": 250,
   "metadata": {},
   "outputs": [
    {
     "name": "stdout",
     "output_type": "stream",
     "text": [
      "[7642, 1809, 425, 96, 19, 9]\n",
      "10000\n",
      "[7587.572504805594, 1830.4468532374106, 441.5820317242007, 132.2276829014795, 25.699219429952464, 8.170927331315747]\n"
     ]
    }
   ],
   "source": [
    "n_i = [0 for _ in range(len(a))]\n",
    "for i in range(n):\n",
    "    if data_exp[i] < a[0]:\n",
    "        n_i[0] += 1\n",
    "    elif data_exp[i] > a[0] and data_exp[i] < a[1]:\n",
    "        n_i[1]+=1\n",
    "    elif data_exp[i] > a[1] and data_exp[i] < a[2]:\n",
    "        n_i[2]+=1\n",
    "    elif data_exp[i] > a[2] and data_exp[i] < a[3]:\n",
    "        n_i[3]+=1\n",
    "    elif data_exp[i] > a[3] and data_exp[i] < a[4]:\n",
    "        n_i[4]+=1\n",
    "    else:\n",
    "        n_i[5]+=1\n",
    "    #for j in range(1,len(a)):\n",
    "        #if data_exp[i] < a[j] and data_exp[i] > a[j-1]:\n",
    "            #n_i[j -1] += 1\n",
    "print(n_i)\n",
    "print(sum(n_i))\n",
    "print(m)\n",
    "m[3] += m[4]\n",
    "n_i[3] += n_i[4]"
   ]
  },
  {
   "cell_type": "code",
   "execution_count": 251,
   "metadata": {
    "scrolled": true
   },
   "outputs": [
    {
     "data": {
      "text/plain": [
       "[<matplotlib.lines.Line2D at 0x2eac04fc3d0>]"
      ]
     },
     "execution_count": 251,
     "metadata": {},
     "output_type": "execute_result"
    },
    {
     "data": {
      "image/png": "[encoded data removed]",
      "text/plain": [
       "<Figure size 432x288 with 1 Axes>"
      ]
     },
     "metadata": {
      "needs_background": "light"
     },
     "output_type": "display_data"
    }
   ],
   "source": [
    "import matplotlib.pyplot as plt\n",
    "x = [a[0]/2]\n",
    "for i in range(len(a) - 1):\n",
    "    x.append((a[i] + a[i+1]) / 2)\n",
    "y = n_i\n",
    "plt.plot(x,y)"
   ]
  },
  {
   "cell_type": "code",
   "execution_count": 253,
   "metadata": {},
   "outputs": [
    {
     "name": "stdout",
     "output_type": "stream",
     "text": [
      "оценка несмещенной дисперии 0.18855991290707447\n",
      "оценка несмещенного математического ожидания 0.4381136047633515\n"
     ]
    }
   ],
   "source": [
    "import pandas as pd\n",
    "series = pd.Series(data_exp)\n",
    "#print(series.describe())\n",
    "print('оценка несмещенной дисперии', series.std()**2)\n",
    "print('оценка несмещенного математического ожидания', series.mean())"
   ]
  },
  {
   "cell_type": "code",
   "execution_count": 252,
   "metadata": {},
   "outputs": [
    {
     "name": "stdout",
     "output_type": "stream",
     "text": [
      "14.763025264878292 0.011424368712844208\n",
      "Гипотеза не верна\n"
     ]
    }
   ],
   "source": [
    "from scipy import stats\n",
    "X, p = stats.chisquare(n_i, m)\n",
    "print(X, p)\n",
    "if p > 0.5:\n",
    "    print('Гипотеза верна')\n",
    "else:\n",
    "    print('Гипотеза не верна')"
   ]
  }
 ],
 "metadata": {
  "kernelspec": {
   "display_name": "Python 3",
   "language": "python",
   "name": "python3"
  },
  "language_info": {
   "codemirror_mode": {
    "name": "ipython",
    "version": 3
   },
   "file_extension": ".py",
   "mimetype": "text/x-python",
   "name": "python",
   "nbconvert_exporter": "python",
   "pygments_lexer": "ipython3",
   "version": "3.8.5"
  }
 },
 "nbformat": 4,
 "nbformat_minor": 4
}
